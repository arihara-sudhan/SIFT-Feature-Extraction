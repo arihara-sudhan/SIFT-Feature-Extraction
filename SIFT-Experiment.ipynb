{
 "cells": [
  {
   "cell_type": "code",
   "execution_count": 2,
   "id": "583f2824",
   "metadata": {},
   "outputs": [],
   "source": [
    "import cv2 \n",
    "img = cv2.imread('./Images/glassper1.jpg')\n",
    "gray = cv2.cvtColor(img, cv2.COLOR_BGR2GRAY)"
   ]
  },
  {
   "cell_type": "code",
   "execution_count": 9,
   "id": "5d146eb0",
   "metadata": {},
   "outputs": [],
   "source": [
    "sift = cv2.SIFT_create()\n",
    "keypoints, descriptors = sift.detectAndCompute(img, None)\n",
    "sift_image = cv2.drawKeypoints(gray, keypoints, img)\n",
    "cv2.imshow('image', sift_image)\n",
    "cv2.imwrite(\"./Images/glassper1-sift.jpg\", sift_image)\n",
    "cv2.waitKey(0)\n",
    "cv2.destroyAllWindows()"
   ]
  },
  {
   "cell_type": "code",
   "execution_count": 3,
   "id": "50bb2b1c",
   "metadata": {},
   "outputs": [],
   "source": [
    "img1 = cv2.imread('./Images/glassper2.jpg')  \n",
    "img2 = cv2.imread('./Images/glassper1.jpg')\n",
    "img1 = cv2.cvtColor(img1, cv2.COLOR_BGR2GRAY)\n",
    "img2 = cv2.cvtColor(img2, cv2.COLOR_BGR2GRAY)\n",
    "sift = cv2.SIFT_create()\n",
    "keypoints_1, descriptors_1 = sift.detectAndCompute(img1,None)\n",
    "keypoints_2, descriptors_2 = sift.detectAndCompute(img2,None)\n",
    "bf = cv2.BFMatcher(cv2.NORM_L1, crossCheck=True)\n",
    "matches = bf.match(descriptors_1,descriptors_2)\n",
    "matches = sorted(matches, key = lambda x:x.distance)\n",
    "matched_img = cv2.drawMatches(img1, keypoints_1, img2, keypoints_2, matches[:50], img2, flags=2)\n",
    "cv2.imshow('image', matched_img)\n",
    "cv2.imwrite(\"./Images/matchedper.jpg\", matched_img)\n",
    "cv2.waitKey(0)\n",
    "cv2.destroyAllWindows()"
   ]
  }
 ],
 "metadata": {
  "kernelspec": {
   "display_name": "Python 3",
   "language": "python",
   "name": "python3"
  },
  "language_info": {
   "codemirror_mode": {
    "name": "ipython",
    "version": 3
   },
   "file_extension": ".py",
   "mimetype": "text/x-python",
   "name": "python",
   "nbconvert_exporter": "python",
   "pygments_lexer": "ipython3",
   "version": "3.8.8"
  }
 },
 "nbformat": 4,
 "nbformat_minor": 5
}
