{
 "cells": [
  {
   "cell_type": "markdown",
   "id": "fde6c76e",
   "metadata": {},
   "source": [
    "# SIFT FEATURE EXTRACTION"
   ]
  },
  {
   "cell_type": "markdown",
   "id": "a7f07c7b",
   "metadata": {},
   "source": [
    "# ![https://media.licdn.com/dms/image/D5622AQF9GK6WowHAWA/feedshare-shrink_800/0/1690963072386?e=1694044800&v=beta&t=oDdP9MnUE4JYQXSuInpnoTGcCaqdZVHQ_4Kmv9Dj9Xk](https://media.licdn.com/dms/image/D5622AQF9GK6WowHAWA/feedshare-shrink_800/0/1690963072386?e=1694044800&v=beta&t=oDdP9MnUE4JYQXSuInpnoTGcCaqdZVHQ_4Kmv9Dj9Xk)"
   ]
  },
  {
   "cell_type": "markdown",
   "id": "bdd56599",
   "metadata": {},
   "source": [
    "# ALL WE NEED"
   ]
  },
  {
   "cell_type": "code",
   "execution_count": 1,
   "id": "0e32499b",
   "metadata": {},
   "outputs": [],
   "source": [
    "import cv2\n",
    "import numpy as np\n",
    "import os"
   ]
  },
  {
   "cell_type": "markdown",
   "id": "6ddaefd8",
   "metadata": {},
   "source": [
    "# GET THE COUNT OF MATCHED KEYPOINTS"
   ]
  },
  {
   "cell_type": "code",
   "execution_count": 2,
   "id": "544a3fd1",
   "metadata": {},
   "outputs": [],
   "source": [
    "def get_matched_keypoint_count(query_image_path, candidate_image_path):\n",
    "    query_image = cv2.imread(query_image_path, cv2.IMREAD_GRAYSCALE)\n",
    "    candidate_image = cv2.imread(candidate_image_path, cv2.IMREAD_GRAYSCALE)\n",
    "    sift = cv2.SIFT_create()\n",
    "    query_keypoints, query_descriptors = sift.detectAndCompute(query_image, None)\n",
    "    candidate_keypoints, candidate_descriptors = sift.detectAndCompute(candidate_image, None)\n",
    "    FLANN_INDEX_KDTREE = 0\n",
    "    index_params = dict(algorithm=FLANN_INDEX_KDTREE, trees=5)\n",
    "    search_params = dict(checks=50)\n",
    "    flann = cv2.FlannBasedMatcher(index_params, search_params)\n",
    "    matches = flann.knnMatch(query_descriptors, candidate_descriptors, k=2)\n",
    "    good_matches = []\n",
    "    for m, n in matches:\n",
    "        if m.distance < 0.7 * n.distance:\n",
    "            good_matches.append(m)\n",
    "    return len(good_matches)"
   ]
  },
  {
   "cell_type": "markdown",
   "id": "5da3f3ec",
   "metadata": {},
   "source": [
    "# DRAW MATCHED KEYPOINTS"
   ]
  },
  {
   "cell_type": "code",
   "execution_count": 32,
   "id": "ffeef06b",
   "metadata": {},
   "outputs": [],
   "source": [
    "def draw_matched_keypoints(query_image_path, candidate_image_path, predicted_class):\n",
    "    query_image_rgb = cv2.imread(query_image_path)\n",
    "    candidate_image_rgb = cv2.imread(candidate_image_path)\n",
    "    query_image_gray = cv2.cvtColor(query_image_rgb, cv2.COLOR_BGR2GRAY)\n",
    "    candidate_image_gray = cv2.cvtColor(candidate_image_rgb, cv2.COLOR_BGR2GRAY)\n",
    "    \n",
    "    sift = cv2.SIFT_create()\n",
    "    query_keypoints, query_descriptors = sift.detectAndCompute(query_image_gray, None)\n",
    "    candidate_keypoints, candidate_descriptors = sift.detectAndCompute(candidate_image_gray, None)\n",
    "    \n",
    "    FLANN_INDEX_KDTREE = 0\n",
    "    index_params = dict(algorithm=FLANN_INDEX_KDTREE, trees=5)\n",
    "    search_params = dict(checks=50)\n",
    "    flann = cv2.FlannBasedMatcher(index_params, search_params)\n",
    "    matches = flann.knnMatch(query_descriptors, candidate_descriptors, k=2)\n",
    "    \n",
    "    good_matches = []\n",
    "    for m, n in matches:\n",
    "        if m.distance < 0.795 * n.distance:\n",
    "            good_matches.append(m)\n",
    "    \n",
    "    matched_image = cv2.drawMatches(query_image_rgb, query_keypoints, candidate_image_rgb, candidate_keypoints, good_matches, None, flags=cv2.DrawMatchesFlags_NOT_DRAW_SINGLE_POINTS)\n",
    "    \n",
    "    for match in good_matches:\n",
    "        query_keypoint = query_keypoints[match.queryIdx].pt\n",
    "        candidate_keypoint = candidate_keypoints[match.trainIdx].pt\n",
    "        query_keypoint = tuple(map(int, query_keypoint))\n",
    "        candidate_keypoint = tuple(map(int, candidate_keypoint))\n",
    "        cv2.line(matched_image, query_keypoint, (candidate_keypoint[0] + query_image_rgb.shape[1], candidate_keypoint[1]), (0, 255, 0), 1)\n",
    "    \n",
    "    # Draw predicted class in a black rectangle at the center bottom\n",
    "    font = cv2.FONT_HERSHEY_SIMPLEX\n",
    "    text = f\"PREDICTED : {predicted_class}\"\n",
    "    text_size, _ = cv2.getTextSize(text, font, 1, 2)\n",
    "    text_width, text_height = text_size\n",
    "    rect_height = text_height + 10\n",
    "    rect_y = matched_image.shape[0] - rect_height\n",
    "    cv2.rectangle(matched_image, (0, rect_y), (matched_image.shape[1], matched_image.shape[0]), (0, 0, 0), -1)\n",
    "    text_position = ((matched_image.shape[1] - text_width) // 2, matched_image.shape[0] - 5)\n",
    "    cv2.putText(matched_image, text, text_position, font, 1, (0, 255, 0), 2)\n",
    "\n",
    "    cv2.imshow(\"Matched Image\", matched_image)\n",
    "    cv2.waitKey(0)\n",
    "    cv2.destroyAllWindows()\n",
    "\n",
    "    return len(good_matches)\n"
   ]
  },
  {
   "cell_type": "markdown",
   "id": "3e815f61",
   "metadata": {},
   "source": [
    "# INVOKE"
   ]
  },
  {
   "cell_type": "code",
   "execution_count": 35,
   "id": "b1d4bf86",
   "metadata": {},
   "outputs": [
    {
     "name": "stdout",
     "output_type": "stream",
     "text": [
      "Test image 1/4: ./Images/SIFT/TESTS/GOLDFISH/Screenshot from 2023-08-04 19-07-38.png\n",
      "---\n",
      "GOLDFISH\n",
      "Accuracy: 25.00%\n",
      "Test image 2/4: ./Images/SIFT/TESTS/PYTHON/Screenshot from 2023-08-04 19-29-47.png\n",
      "---\n",
      "PYTHON\n",
      "Accuracy: 50.00%\n",
      "Test image 3/4: ./Images/SIFT/TESTS/PARAKEET/Screenshot from 2023-08-04 19-14-00.png\n",
      "---\n",
      "PARAKEET\n",
      "Accuracy: 75.00%\n",
      "Test image 4/4: ./Images/SIFT/TESTS/PENGUIN/Screenshot from 2023-08-04 19-13-00.png\n",
      "---\n",
      "PENGUIN\n",
      "Accuracy: 100.00%\n"
     ]
    }
   ],
   "source": [
    "def main():\n",
    "    test_folder = './Images/SIFT/TESTS/'\n",
    "    candidate_folder = './Images/SIFT/CANDIDATES/'\n",
    "    test_image_paths = []\n",
    "    test_image_labels = []\n",
    "    for class_name in os.listdir(test_folder):\n",
    "        class_folder = os.path.join(test_folder, class_name)\n",
    "        if not os.path.isdir(class_folder):\n",
    "            continue\n",
    "        test_image_paths.extend([os.path.join(class_folder, img_name) for img_name in os.listdir(class_folder)])\n",
    "        test_image_labels.extend([class_name] * len(os.listdir(class_folder)))\n",
    "\n",
    "    correct_predictions = 0\n",
    "    total_test_images = len(test_image_paths)\n",
    "\n",
    "    for i, test_image_path in enumerate(test_image_paths):\n",
    "        print(f\"Test image {i+1}/{total_test_images}: {test_image_path}\")\n",
    "\n",
    "        max_matches = 0\n",
    "        best_candidate = \"\"\n",
    "        best_class_name = \"\"\n",
    "\n",
    "        for class_name in os.listdir(candidate_folder):\n",
    "            class_folder = os.path.join(candidate_folder, class_name)\n",
    "            if not os.path.isdir(class_folder):\n",
    "                continue\n",
    "\n",
    "            candidate_image_paths = [os.path.join(class_folder, img_name) for img_name in os.listdir(class_folder)]\n",
    "\n",
    "            for candidate_image_path in candidate_image_paths:\n",
    "                matched_keypoint_count = get_matched_keypoint_count(test_image_path, candidate_image_path)\n",
    "                if matched_keypoint_count > max_matches:\n",
    "                    max_matches = matched_keypoint_count\n",
    "                    best_candidate = candidate_image_path\n",
    "                    best_class_name = class_name\n",
    "\n",
    "        #print(f\"Best match from class '{best_class_name}' with {max_matches} keypoints: {best_candidate}\")\n",
    "        print(\"---\")\n",
    "\n",
    "        # Display the image with the maximum matches (optional)\n",
    "\n",
    "        # Check correctness and calculate accuracy\n",
    "        predicted_class = best_class_name\n",
    "        draw_matched_keypoints(test_image_path, best_candidate,predicted_class)\n",
    "        ground_truth_class = test_image_labels[i]\n",
    "        if predicted_class == ground_truth_class:\n",
    "            print(predicted_class)\n",
    "            correct_predictions += 1\n",
    "\n",
    "        accuracy = (correct_predictions / total_test_images) * 100\n",
    "        print(f\"Accuracy: {accuracy:.2f}%\")\n",
    "\n",
    "if __name__ == \"__main__\":\n",
    "    main()\n"
   ]
  }
 ],
 "metadata": {
  "kernelspec": {
   "display_name": "Python 3",
   "language": "python",
   "name": "python3"
  },
  "language_info": {
   "codemirror_mode": {
    "name": "ipython",
    "version": 3
   },
   "file_extension": ".py",
   "mimetype": "text/x-python",
   "name": "python",
   "nbconvert_exporter": "python",
   "pygments_lexer": "ipython3",
   "version": "3.8.8"
  }
 },
 "nbformat": 4,
 "nbformat_minor": 5
}
